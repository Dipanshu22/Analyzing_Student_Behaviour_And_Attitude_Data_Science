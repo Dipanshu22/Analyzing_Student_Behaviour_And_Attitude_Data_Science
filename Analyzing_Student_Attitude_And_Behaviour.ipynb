{
 "cells": [
  {
   "cell_type": "markdown",
   "id": "c4b762c8",
   "metadata": {},
   "source": [
    "# ANALYZING STUDENT ATTITUDE AND BEHAVIOUR "
   ]
  },
  {
   "cell_type": "markdown",
   "id": "a0774080",
   "metadata": {},
   "source": [
    "# Step 1: Import Libraries"
   ]
  },
  {
   "cell_type": "code",
   "execution_count": 106,
   "id": "25560a6f",
   "metadata": {},
   "outputs": [],
   "source": [
    "import pandas as pd\n",
    "import numpy as np\n",
    "from sklearn.model_selection import train_test_split, GridSearchCV, RandomizedSearchCV\n",
    "from sklearn.preprocessing import StandardScaler, OneHotEncoder\n",
    "from sklearn.impute import SimpleImputer\n",
    "from sklearn.compose import ColumnTransformer\n",
    "from sklearn.pipeline import Pipeline\n",
    "from sklearn.ensemble import RandomForestClassifier, GradientBoostingClassifier\n",
    "from sklearn.tree import DecisionTreeClassifier\n",
    "from sklearn.linear_model import LogisticRegression\n",
    "from sklearn.svm import SVC"
   ]
  },
  {
   "cell_type": "markdown",
   "id": "79421c2c",
   "metadata": {},
   "source": [
    "# Step 2: Load the Dataset"
   ]
  },
  {
   "cell_type": "code",
   "execution_count": 107,
   "id": "f4da37d2",
   "metadata": {},
   "outputs": [],
   "source": [
    "data = pd.read_csv('D:\\DataScienceVideos\\Student Attitude and Behavior.csv')"
   ]
  },
  {
   "cell_type": "code",
   "execution_count": 108,
   "id": "67656926",
   "metadata": {},
   "outputs": [
    {
     "name": "stdout",
     "output_type": "stream",
     "text": [
      "  Certification Course  Gender Department  Height(CM)  Weight(KG)  10th Mark  \\\n",
      "0                   No    Male        BCA       100.0        58.0       79.0   \n",
      "1                   No  Female        BCA        90.0        40.0       70.0   \n",
      "2                  Yes    Male        BCA       159.0        78.0       71.0   \n",
      "3                  Yes  Female        BCA       147.0        20.0       70.0   \n",
      "4                   No    Male        BCA       170.0        54.0       40.0   \n",
      "\n",
      "   12th Mark  college mark        hobbies daily studing time  \\\n",
      "0       64.0          80.0    Video Games      0 - 30 minute   \n",
      "1       80.0          70.0         Cinema     30 - 60 minute   \n",
      "2       61.0          55.0         Cinema         1 - 2 Hour   \n",
      "3       59.0          58.0  Reading books         1 - 2 Hour   \n",
      "4       65.0          30.0    Video Games     30 - 60 minute   \n",
      "\n",
      "  prefer to study in  salary expectation Do you like your degree?  \\\n",
      "0            Morning               40000                       No   \n",
      "1            Morning               15000                      Yes   \n",
      "2            Anytime               13000                      Yes   \n",
      "3            Anytime             1500000                       No   \n",
      "4            Morning               50000                      Yes   \n",
      "\n",
      "  willingness to pursue a career based on their degree   social medai & video  \\\n",
      "0                                                50%            1.30 - 2 hour   \n",
      "1                                                75%            1 - 1.30 hour   \n",
      "2                                                50%         More than 2 hour   \n",
      "3                                                50%            1.30 - 2 hour   \n",
      "4                                                25%            1.30 - 2 hour   \n",
      "\n",
      "  Travelling Time  Stress Level  Financial Status part-time job  \n",
      "0  30 - 60 minutes           Bad              Bad            No  \n",
      "1   0 - 30 minutes           Bad              Bad            No  \n",
      "2  30 - 60 minutes         Awful              Bad            No  \n",
      "3   0 - 30 minutes           Bad             good            No  \n",
      "4  30 - 60 minutes          Good             good            No  \n"
     ]
    }
   ],
   "source": [
    "print(data.head())  # View first few rows"
   ]
  },
  {
   "cell_type": "code",
   "execution_count": 109,
   "id": "5fb1287c",
   "metadata": {},
   "outputs": [
    {
     "name": "stdout",
     "output_type": "stream",
     "text": [
      "<class 'pandas.core.frame.DataFrame'>\n",
      "RangeIndex: 235 entries, 0 to 234\n",
      "Data columns (total 19 columns):\n",
      " #   Column                                                  Non-Null Count  Dtype  \n",
      "---  ------                                                  --------------  -----  \n",
      " 0   Certification Course                                    235 non-null    object \n",
      " 1   Gender                                                  235 non-null    object \n",
      " 2   Department                                              235 non-null    object \n",
      " 3   Height(CM)                                              235 non-null    float64\n",
      " 4   Weight(KG)                                              235 non-null    float64\n",
      " 5   10th Mark                                               235 non-null    float64\n",
      " 6   12th Mark                                               235 non-null    float64\n",
      " 7   college mark                                            235 non-null    float64\n",
      " 8   hobbies                                                 235 non-null    object \n",
      " 9   daily studing time                                      235 non-null    object \n",
      " 10  prefer to study in                                      235 non-null    object \n",
      " 11  salary expectation                                      235 non-null    int64  \n",
      " 12  Do you like your degree?                                235 non-null    object \n",
      " 13  willingness to pursue a career based on their degree    235 non-null    object \n",
      " 14  social medai & video                                    235 non-null    object \n",
      " 15  Travelling Time                                         235 non-null    object \n",
      " 16  Stress Level                                            235 non-null    object \n",
      " 17  Financial Status                                        235 non-null    object \n",
      " 18  part-time job                                           235 non-null    object \n",
      "dtypes: float64(5), int64(1), object(13)\n",
      "memory usage: 35.0+ KB\n",
      "None\n"
     ]
    }
   ],
   "source": [
    "print(data.info())  # Check data types and missing values"
   ]
  },
  {
   "cell_type": "code",
   "execution_count": 110,
   "id": "310376a0",
   "metadata": {},
   "outputs": [
    {
     "name": "stdout",
     "output_type": "stream",
     "text": [
      "       Height(CM)  Weight(KG)   10th Mark   12th Mark  college mark  \\\n",
      "count  235.000000  235.000000  235.000000  235.000000    235.000000   \n",
      "mean   157.402128   60.803830   76.848511   68.775872     70.660553   \n",
      "std     21.510805   14.895844   13.047560   11.018192     15.727446   \n",
      "min      4.500000   20.000000    7.400000   45.000000      1.000000   \n",
      "25%    152.000000   50.000000   70.000000   60.000000     60.000000   \n",
      "50%    160.000000   60.000000   80.000000   69.000000     70.000000   \n",
      "75%    170.000000   70.000000   86.250000   76.000000     80.000000   \n",
      "max    192.000000  106.000000   98.000000   94.000000    100.000000   \n",
      "\n",
      "       salary expectation  \n",
      "count        2.350000e+02  \n",
      "mean         3.248168e+04  \n",
      "std          1.113146e+05  \n",
      "min          0.000000e+00  \n",
      "25%          1.500000e+04  \n",
      "50%          2.000000e+04  \n",
      "75%          2.500000e+04  \n",
      "max          1.500000e+06  \n"
     ]
    }
   ],
   "source": [
    "print(data.describe())  # Summary statistics"
   ]
  },
  {
   "cell_type": "markdown",
   "id": "2554fdcb",
   "metadata": {},
   "source": [
    "# Step 4: Split Data into Features and Target\n",
    "Separate the features (independent variables) from the target variable."
   ]
  },
  {
   "cell_type": "code",
   "execution_count": 111,
   "id": "a1797023",
   "metadata": {},
   "outputs": [],
   "source": [
    "# Remove leading and trailing spaces from column names\n",
    "data.columns = data.columns.str.strip()\n",
    "\n",
    "# Now we can proceed with dropping the target column and splitting the data\n",
    "X = data.drop(columns=['willingness to pursue a career based on their degree'])\n",
    "y = data['willingness to pursue a career based on their degree']"
   ]
  },
  {
   "cell_type": "markdown",
   "id": "2409df60",
   "metadata": {},
   "source": [
    "# Step 5: Preprocessing\n",
    "Apply preprocessing steps including imputation, encoding, and scaling using ColumnTransformer.We'll create separate transformers for numeric and non-numeric columns and handle them accordingly."
   ]
  },
  {
   "cell_type": "raw",
   "id": "68d099f2",
   "metadata": {},
   "source": [
    "# Now, let's define the column names for each type of preprocessing:"
   ]
  },
  {
   "cell_type": "code",
   "execution_count": 112,
   "id": "8dc2a125",
   "metadata": {},
   "outputs": [],
   "source": [
    "# Numeric features for scaling\n",
    "numeric_features = ['Height(CM)', 'Weight(KG)', '10th Mark', '12th Mark', 'college mark', 'salary expectation']\n",
    "\n",
    "# Categorical features for encoding\n",
    "categorical_features = ['Certification Course', 'Gender', 'Department', 'hobbies', \n",
    "                        'daily studing time', 'prefer to study in', 'Do you like your degree?', \n",
    "                        'social medai & video', 'Travelling Time', 'Stress Level', 'Financial Status', \n",
    "                        'part-time job']\n"
   ]
  },
  {
   "cell_type": "raw",
   "id": "a735f6f2",
   "metadata": {},
   "source": [
    "Next, we'll create the ColumnTransformer object to apply different preprocessing steps to different columns:"
   ]
  },
  {
   "cell_type": "code",
   "execution_count": 113,
   "id": "e2d9065c",
   "metadata": {},
   "outputs": [],
   "source": [
    "# Preprocessing steps\n",
    "numeric_transformer = StandardScaler()\n",
    "categorical_transformer = OneHotEncoder()\n",
    "\n",
    "# Combine preprocessing steps\n",
    "preprocessor = ColumnTransformer(\n",
    "    transformers=[\n",
    "        ('num', numeric_transformer, numeric_features),\n",
    "        ('cat', categorical_transformer, categorical_features)\n",
    "    ])\n"
   ]
  },
  {
   "cell_type": "raw",
   "id": "a170206f",
   "metadata": {},
   "source": [
    "Now, let's fit and transform the data using this preprocessor:"
   ]
  },
  {
   "cell_type": "code",
   "execution_count": 114,
   "id": "1451fd3d",
   "metadata": {},
   "outputs": [],
   "source": [
    "# Fit and transform the data\n",
    "X_preprocessed = preprocessor.fit_transform(X)\n"
   ]
  },
  {
   "cell_type": "raw",
   "id": "487311fd",
   "metadata": {},
   "source": [
    "Finally, let's examine the shape and first few rows of the preprocessed data:"
   ]
  },
  {
   "cell_type": "code",
   "execution_count": 115,
   "id": "851f3c10",
   "metadata": {},
   "outputs": [
    {
     "name": "stdout",
     "output_type": "stream",
     "text": [
      "Shape of preprocessed data: (235, 52)\n",
      "First few rows of preprocessed data:\n",
      "[[-2.67422119 -0.18863076  0.16524788 -0.43437854  0.59509862  0.06768532\n",
      "   1.          0.          0.          1.          0.          0.\n",
      "   1.          0.          0.          0.          0.          1.\n",
      "   1.          0.          0.          0.          0.          0.\n",
      "   0.          1.          0.          1.          0.          0.\n",
      "   0.          0.          1.          0.          0.          0.\n",
      "   0.          0.          0.          0.          1.          0.\n",
      "   0.          1.          0.          0.          0.          1.\n",
      "   0.          0.          1.          0.        ]\n",
      " [-3.14009612 -1.39960075 -0.52600857  1.02086485 -0.04208968 -0.15738268\n",
      "   1.          0.          1.          0.          0.          0.\n",
      "   1.          0.          1.          0.          0.          0.\n",
      "   0.          0.          0.          0.          1.          0.\n",
      "   0.          1.          0.          0.          1.          0.\n",
      "   1.          0.          0.          0.          0.          1.\n",
      "   0.          0.          0.          0.          0.          0.\n",
      "   0.          1.          0.          0.          0.          1.\n",
      "   0.          0.          1.          0.        ]\n",
      " [ 0.07444087  1.15689144 -0.4492023  -0.70723668 -0.99787212 -0.17538812\n",
      "   0.          1.          0.          1.          0.          0.\n",
      "   1.          0.          1.          0.          0.          0.\n",
      "   0.          1.          0.          0.          0.          0.\n",
      "   1.          0.          0.          0.          1.          0.\n",
      "   0.          0.          0.          0.          1.          0.\n",
      "   0.          0.          0.          0.          1.          0.\n",
      "   1.          0.          0.          0.          0.          1.\n",
      "   0.          0.          1.          0.        ]\n",
      " [-0.48460904 -2.74512295 -0.52600857 -0.8891421  -0.80671563 13.21165702\n",
      "   0.          1.          1.          0.          0.          0.\n",
      "   1.          0.          0.          1.          0.          0.\n",
      "   0.          1.          0.          0.          0.          0.\n",
      "   1.          0.          0.          1.          0.          0.\n",
      "   0.          0.          1.          0.          0.          1.\n",
      "   0.          0.          0.          0.          0.          0.\n",
      "   0.          1.          0.          0.          0.          0.\n",
      "   0.          1.          1.          0.        ]\n",
      " [ 0.58690328 -0.4577352  -2.83019673 -0.34342583 -2.59084287  0.15771253\n",
      "   1.          0.          0.          1.          0.          0.\n",
      "   1.          0.          0.          0.          0.          1.\n",
      "   0.          0.          0.          0.          1.          0.\n",
      "   0.          1.          0.          0.          1.          0.\n",
      "   0.          0.          1.          0.          0.          0.\n",
      "   0.          0.          0.          0.          1.          0.\n",
      "   0.          0.          1.          0.          0.          0.\n",
      "   0.          1.          1.          0.        ]]\n"
     ]
    }
   ],
   "source": [
    "print(\"Shape of preprocessed data:\", X_preprocessed.shape)\n",
    "print(\"First few rows of preprocessed data:\")\n",
    "print(X_preprocessed[:5])\n"
   ]
  },
  {
   "cell_type": "markdown",
   "id": "a06a1090",
   "metadata": {},
   "source": [
    "# Step 6: Train-Test Split\n",
    "Split the data into training and testing sets."
   ]
  },
  {
   "cell_type": "code",
   "execution_count": 116,
   "id": "7cd22b61",
   "metadata": {},
   "outputs": [
    {
     "name": "stdout",
     "output_type": "stream",
     "text": [
      "Shape of X_train: (188, 52)\n",
      "Shape of X_test: (47, 52)\n",
      "Shape of y_train: (188,)\n",
      "Shape of y_test: (47,)\n"
     ]
    }
   ],
   "source": [
    "from sklearn.model_selection import train_test_split\n",
    "\n",
    "# Split the preprocessed data into training and testing sets\n",
    "X_train, X_test, y_train, y_test = train_test_split(X_preprocessed , y, test_size=0.2, random_state=42)\n",
    "\n",
    "# Check the shapes of the training and testing sets\n",
    "print(\"Shape of X_train:\", X_train.shape)\n",
    "print(\"Shape of X_test:\", X_test.shape)\n",
    "print(\"Shape of y_train:\", y_train.shape)\n",
    "print(\"Shape of y_test:\", y_test.shape)\n"
   ]
  },
  {
   "cell_type": "raw",
   "id": "af615be8",
   "metadata": {},
   "source": [
    "This will split the preprocessed data into training and testing sets with a ratio of 80:20 (we can adjust test_size if needed) and print the shapes of the resulting arrays."
   ]
  },
  {
   "cell_type": "markdown",
   "id": "8dfb530d",
   "metadata": {},
   "source": [
    "# Step 7: Train Models\n",
    "Train various machine learning models."
   ]
  },
  {
   "cell_type": "code",
   "execution_count": 117,
   "id": "b5577c72",
   "metadata": {},
   "outputs": [
    {
     "name": "stdout",
     "output_type": "stream",
     "text": [
      "Logistic Regression: Accuracy = 0.55\n",
      "Decision Tree: Accuracy = 0.40\n",
      "Random Forest: Accuracy = 0.40\n",
      "Support Vector Machine: Accuracy = 0.47\n"
     ]
    }
   ],
   "source": [
    "from sklearn.linear_model import LogisticRegression\n",
    "from sklearn.tree import DecisionTreeClassifier\n",
    "from sklearn.ensemble import RandomForestClassifier\n",
    "from sklearn.svm import SVC\n",
    "\n",
    "# Define the models\n",
    "models = {\n",
    "    'Logistic Regression': LogisticRegression(max_iter=1000),  # Setting max_iter to 1000\n",
    "    'Decision Tree': DecisionTreeClassifier(),\n",
    "    'Random Forest': RandomForestClassifier(),\n",
    "    'Support Vector Machine': SVC()\n",
    "}\n",
    "\n",
    "# Train and evaluate each model\n",
    "for name, model in models.items():\n",
    "    model.fit(X_train, y_train)  # Train the model\n",
    "    accuracy = model.score(X_test, y_test)  # Evaluate the model on the test set\n",
    "    print(f\"{name}: Accuracy = {accuracy:.2f}\")\n",
    "\n"
   ]
  },
  {
   "cell_type": "raw",
   "id": "16bfb9f7",
   "metadata": {},
   "source": [
    "This code will train each model on the training data and then evaluate its accuracy on the test set. \n"
   ]
  },
  {
   "cell_type": "markdown",
   "id": "4472c3f5",
   "metadata": {},
   "source": [
    "# Model Comparison:"
   ]
  },
  {
   "cell_type": "code",
   "execution_count": 118,
   "id": "25a7347f",
   "metadata": {},
   "outputs": [
    {
     "name": "stdout",
     "output_type": "stream",
     "text": [
      "Best Model: Logistic Regression, Accuracy: 0.55\n"
     ]
    }
   ],
   "source": [
    "# 1. Model Comparison\n",
    "best_model_name = max(models, key=lambda k: models[k].score(X_test, y_test))\n",
    "best_model_accuracy = models[best_model_name].score(X_test, y_test)\n",
    "print(f\"Best Model: {best_model_name}, Accuracy: {best_model_accuracy:.2f}\")\n"
   ]
  },
  {
   "cell_type": "markdown",
   "id": "c9e6f7a7",
   "metadata": {},
   "source": [
    "# Hyperparameter Tuning (example with Grid Search):"
   ]
  },
  {
   "cell_type": "code",
   "execution_count": 119,
   "id": "845f544e",
   "metadata": {},
   "outputs": [
    {
     "name": "stderr",
     "output_type": "stream",
     "text": [
      "C:\\Users\\dipgu\\anaconda3\\Lib\\site-packages\\sklearn\\model_selection\\_split.py:725: UserWarning: The least populated class in y has only 2 members, which is less than n_splits=5.\n",
      "  warnings.warn(\n"
     ]
    },
    {
     "name": "stdout",
     "output_type": "stream",
     "text": [
      "Best Parameters: {'max_depth': 3, 'min_samples_leaf': 1, 'min_samples_split': 5}\n"
     ]
    },
    {
     "data": {
      "text/html": [
       "<style>#sk-container-id-16 {color: black;}#sk-container-id-16 pre{padding: 0;}#sk-container-id-16 div.sk-toggleable {background-color: white;}#sk-container-id-16 label.sk-toggleable__label {cursor: pointer;display: block;width: 100%;margin-bottom: 0;padding: 0.3em;box-sizing: border-box;text-align: center;}#sk-container-id-16 label.sk-toggleable__label-arrow:before {content: \"▸\";float: left;margin-right: 0.25em;color: #696969;}#sk-container-id-16 label.sk-toggleable__label-arrow:hover:before {color: black;}#sk-container-id-16 div.sk-estimator:hover label.sk-toggleable__label-arrow:before {color: black;}#sk-container-id-16 div.sk-toggleable__content {max-height: 0;max-width: 0;overflow: hidden;text-align: left;background-color: #f0f8ff;}#sk-container-id-16 div.sk-toggleable__content pre {margin: 0.2em;color: black;border-radius: 0.25em;background-color: #f0f8ff;}#sk-container-id-16 input.sk-toggleable__control:checked~div.sk-toggleable__content {max-height: 200px;max-width: 100%;overflow: auto;}#sk-container-id-16 input.sk-toggleable__control:checked~label.sk-toggleable__label-arrow:before {content: \"▾\";}#sk-container-id-16 div.sk-estimator input.sk-toggleable__control:checked~label.sk-toggleable__label {background-color: #d4ebff;}#sk-container-id-16 div.sk-label input.sk-toggleable__control:checked~label.sk-toggleable__label {background-color: #d4ebff;}#sk-container-id-16 input.sk-hidden--visually {border: 0;clip: rect(1px 1px 1px 1px);clip: rect(1px, 1px, 1px, 1px);height: 1px;margin: -1px;overflow: hidden;padding: 0;position: absolute;width: 1px;}#sk-container-id-16 div.sk-estimator {font-family: monospace;background-color: #f0f8ff;border: 1px dotted black;border-radius: 0.25em;box-sizing: border-box;margin-bottom: 0.5em;}#sk-container-id-16 div.sk-estimator:hover {background-color: #d4ebff;}#sk-container-id-16 div.sk-parallel-item::after {content: \"\";width: 100%;border-bottom: 1px solid gray;flex-grow: 1;}#sk-container-id-16 div.sk-label:hover label.sk-toggleable__label {background-color: #d4ebff;}#sk-container-id-16 div.sk-serial::before {content: \"\";position: absolute;border-left: 1px solid gray;box-sizing: border-box;top: 0;bottom: 0;left: 50%;z-index: 0;}#sk-container-id-16 div.sk-serial {display: flex;flex-direction: column;align-items: center;background-color: white;padding-right: 0.2em;padding-left: 0.2em;position: relative;}#sk-container-id-16 div.sk-item {position: relative;z-index: 1;}#sk-container-id-16 div.sk-parallel {display: flex;align-items: stretch;justify-content: center;background-color: white;position: relative;}#sk-container-id-16 div.sk-item::before, #sk-container-id-16 div.sk-parallel-item::before {content: \"\";position: absolute;border-left: 1px solid gray;box-sizing: border-box;top: 0;bottom: 0;left: 50%;z-index: -1;}#sk-container-id-16 div.sk-parallel-item {display: flex;flex-direction: column;z-index: 1;position: relative;background-color: white;}#sk-container-id-16 div.sk-parallel-item:first-child::after {align-self: flex-end;width: 50%;}#sk-container-id-16 div.sk-parallel-item:last-child::after {align-self: flex-start;width: 50%;}#sk-container-id-16 div.sk-parallel-item:only-child::after {width: 0;}#sk-container-id-16 div.sk-dashed-wrapped {border: 1px dashed gray;margin: 0 0.4em 0.5em 0.4em;box-sizing: border-box;padding-bottom: 0.4em;background-color: white;}#sk-container-id-16 div.sk-label label {font-family: monospace;font-weight: bold;display: inline-block;line-height: 1.2em;}#sk-container-id-16 div.sk-label-container {text-align: center;}#sk-container-id-16 div.sk-container {/* jupyter's `normalize.less` sets `[hidden] { display: none; }` but bootstrap.min.css set `[hidden] { display: none !important; }` so we also need the `!important` here to be able to override the default hidden behavior on the sphinx rendered scikit-learn.org. See: https://github.com/scikit-learn/scikit-learn/issues/21755 */display: inline-block !important;position: relative;}#sk-container-id-16 div.sk-text-repr-fallback {display: none;}</style><div id=\"sk-container-id-16\" class=\"sk-top-container\"><div class=\"sk-text-repr-fallback\"><pre>DecisionTreeClassifier(max_depth=3, min_samples_split=5)</pre><b>In a Jupyter environment, please rerun this cell to show the HTML representation or trust the notebook. <br />On GitHub, the HTML representation is unable to render, please try loading this page with nbviewer.org.</b></div><div class=\"sk-container\" hidden><div class=\"sk-item\"><div class=\"sk-estimator sk-toggleable\"><input class=\"sk-toggleable__control sk-hidden--visually\" id=\"sk-estimator-id-16\" type=\"checkbox\" checked><label for=\"sk-estimator-id-16\" class=\"sk-toggleable__label sk-toggleable__label-arrow\">DecisionTreeClassifier</label><div class=\"sk-toggleable__content\"><pre>DecisionTreeClassifier(max_depth=3, min_samples_split=5)</pre></div></div></div></div></div>"
      ],
      "text/plain": [
       "DecisionTreeClassifier(max_depth=3, min_samples_split=5)"
      ]
     },
     "execution_count": 119,
     "metadata": {},
     "output_type": "execute_result"
    }
   ],
   "source": [
    "from sklearn.model_selection import GridSearchCV, StratifiedKFold\n",
    "\n",
    "# Define hyperparameters to search\n",
    "param_grid = {\n",
    "    'max_depth': [3, 5, 10],\n",
    "    'min_samples_split': [2, 5, 10],\n",
    "    'min_samples_leaf': [1, 2, 4]\n",
    "}\n",
    "\n",
    "# Define StratifiedKFold cross-validation strategy\n",
    "stratified_kfold = StratifiedKFold(n_splits=5, shuffle=True, random_state=42)\n",
    "\n",
    "# Perform Grid Search for Decision Tree with StratifiedKFold\n",
    "grid_search = GridSearchCV(DecisionTreeClassifier(), param_grid, cv=stratified_kfold)\n",
    "grid_search.fit(X_train, y_train)\n",
    "\n",
    "# Get the best parameters\n",
    "best_params = grid_search.best_params_\n",
    "print(\"Best Parameters:\", best_params)\n",
    "\n",
    "# Train a new Decision Tree with the best parameters\n",
    "best_decision_tree = DecisionTreeClassifier(**best_params)\n",
    "best_decision_tree.fit(X_train, y_train)\n"
   ]
  },
  {
   "cell_type": "markdown",
   "id": "1a671ed0",
   "metadata": {},
   "source": [
    "# Feature Importance (for Decision Tree or Random Forest):"
   ]
  },
  {
   "cell_type": "code",
   "execution_count": 120,
   "id": "a4aa15a6",
   "metadata": {},
   "outputs": [
    {
     "name": "stdout",
     "output_type": "stream",
     "text": [
      "Feature Importance (Decision Tree):\n",
      "                                     Feature  Importance (Decision Tree)\n",
      "0                                 Height(CM)                    0.000000\n",
      "1                                 Weight(KG)                    0.000000\n",
      "2                                  10th Mark                    0.322253\n",
      "3                                  12th Mark                    0.000000\n",
      "4                               college mark                    0.192642\n",
      "5                         salary expectation                    0.000000\n",
      "6                    Certification Course_No                    0.000000\n",
      "7                   Certification Course_Yes                    0.000000\n",
      "8                              Gender_Female                    0.000000\n",
      "9                                Gender_Male                    0.000000\n",
      "10  Department_B.com Accounting and Finance                     0.000000\n",
      "11                      Department_B.com ISM                    0.000000\n",
      "12                            Department_BCA                    0.000000\n",
      "13                       Department_Commerce                    0.000000\n",
      "14                            hobbies_Cinema                    0.000000\n",
      "15                     hobbies_Reading books                    0.000000\n",
      "16                            hobbies_Sports                    0.000000\n",
      "17                       hobbies_Video Games                    0.000000\n",
      "18          daily studing time_0 - 30 minute                    0.000000\n",
      "19             daily studing time_1 - 2 Hour                    0.000000\n",
      "20             daily studing time_2 - 3 hour                    0.000000\n",
      "21             daily studing time_3 - 4 hour                    0.000000\n",
      "22         daily studing time_30 - 60 minute                    0.000000\n",
      "23       daily studing time_More Than 4 hour                    0.000000\n",
      "24                prefer to study in_Anytime                    0.000000\n",
      "25                prefer to study in_Morning                    0.000000\n",
      "26                  prefer to study in_Night                    0.000000\n",
      "27               Do you like your degree?_No                    0.000000\n",
      "28              Do you like your degree?_Yes                    0.164871\n",
      "29             social medai & video_0 Minute                    0.116668\n",
      "30        social medai & video_1 - 1.30 hour                    0.000000\n",
      "31        social medai & video_1 - 30 Minute                    0.000000\n",
      "32        social medai & video_1.30 - 2 hour                    0.000000\n",
      "33       social medai & video_30 - 60 Minute                    0.000000\n",
      "34     social medai & video_More than 2 hour                    0.000000\n",
      "35            Travelling Time_0 - 30 minutes                    0.103452\n",
      "36             Travelling Time_1 - 1.30 hour                    0.000000\n",
      "37             Travelling Time_1.30 - 2 hour                    0.000000\n",
      "38             Travelling Time_2 - 2.30 hour                    0.000000\n",
      "39             Travelling Time_2.30 - 3 hour                    0.000000\n",
      "40           Travelling Time_30 - 60 minutes                    0.000000\n",
      "41          Travelling Time_more than 3 hour                    0.000000\n",
      "42                        Stress Level_Awful                    0.000000\n",
      "43                          Stress Level_Bad                    0.000000\n",
      "44                         Stress Level_Good                    0.000000\n",
      "45                     Stress Level_fabulous                    0.100114\n",
      "46                    Financial Status_Awful                    0.000000\n",
      "47                      Financial Status_Bad                    0.000000\n",
      "48                 Financial Status_Fabulous                    0.000000\n",
      "49                     Financial Status_good                    0.000000\n",
      "50                          part-time job_No                    0.000000\n",
      "51                         part-time job_Yes                    0.000000\n",
      "\n",
      "Feature Importance (Random Forest):\n",
      "                                     Feature  Importance (Random Forest)\n",
      "0                                 Height(CM)                    0.078751\n",
      "1                                 Weight(KG)                    0.068633\n",
      "2                                  10th Mark                    0.052444\n",
      "3                                  12th Mark                    0.076839\n",
      "4                               college mark                    0.097667\n",
      "5                         salary expectation                    0.043627\n",
      "6                    Certification Course_No                    0.011242\n",
      "7                   Certification Course_Yes                    0.013534\n",
      "8                              Gender_Female                    0.008347\n",
      "9                                Gender_Male                    0.015078\n",
      "10  Department_B.com Accounting and Finance                     0.004252\n",
      "11                      Department_B.com ISM                    0.004090\n",
      "12                            Department_BCA                    0.006353\n",
      "13                       Department_Commerce                    0.013281\n",
      "14                            hobbies_Cinema                    0.011610\n",
      "15                     hobbies_Reading books                    0.009689\n",
      "16                            hobbies_Sports                    0.006788\n",
      "17                       hobbies_Video Games                    0.005047\n",
      "18          daily studing time_0 - 30 minute                    0.008480\n",
      "19             daily studing time_1 - 2 Hour                    0.023730\n",
      "20             daily studing time_2 - 3 hour                    0.005857\n",
      "21             daily studing time_3 - 4 hour                    0.020727\n",
      "22         daily studing time_30 - 60 minute                    0.020074\n",
      "23       daily studing time_More Than 4 hour                    0.016295\n",
      "24                prefer to study in_Anytime                    0.015384\n",
      "25                prefer to study in_Morning                    0.009272\n",
      "26                  prefer to study in_Night                    0.007070\n",
      "27               Do you like your degree?_No                    0.046855\n",
      "28              Do you like your degree?_Yes                    0.041451\n",
      "29             social medai & video_0 Minute                    0.032959\n",
      "30        social medai & video_1 - 1.30 hour                    0.012136\n",
      "31        social medai & video_1 - 30 Minute                    0.019594\n",
      "32        social medai & video_1.30 - 2 hour                    0.015080\n",
      "33       social medai & video_30 - 60 Minute                    0.005093\n",
      "34     social medai & video_More than 2 hour                    0.000802\n",
      "35            Travelling Time_0 - 30 minutes                    0.009546\n",
      "36             Travelling Time_1 - 1.30 hour                    0.000000\n",
      "37             Travelling Time_1.30 - 2 hour                    0.008695\n",
      "38             Travelling Time_2 - 2.30 hour                    0.011064\n",
      "39             Travelling Time_2.30 - 3 hour                    0.003224\n",
      "40           Travelling Time_30 - 60 minutes                    0.005698\n",
      "41          Travelling Time_more than 3 hour                    0.004232\n",
      "42                        Stress Level_Awful                    0.011745\n",
      "43                          Stress Level_Bad                    0.015045\n",
      "44                         Stress Level_Good                    0.013581\n",
      "45                     Stress Level_fabulous                    0.011546\n",
      "46                    Financial Status_Awful                    0.019795\n",
      "47                      Financial Status_Bad                    0.011097\n",
      "48                 Financial Status_Fabulous                    0.003457\n",
      "49                     Financial Status_good                    0.015654\n",
      "50                          part-time job_No                    0.011369\n",
      "51                         part-time job_Yes                    0.016120\n",
      "\n",
      "Merged Feature Importance:\n",
      "                                     Feature  Importance (Decision Tree)  \\\n",
      "0                                 Height(CM)                    0.000000   \n",
      "1                                 Weight(KG)                    0.000000   \n",
      "2                                  10th Mark                    0.322253   \n",
      "3                                  12th Mark                    0.000000   \n",
      "4                               college mark                    0.192642   \n",
      "5                         salary expectation                    0.000000   \n",
      "6                    Certification Course_No                    0.000000   \n",
      "7                   Certification Course_Yes                    0.000000   \n",
      "8                              Gender_Female                    0.000000   \n",
      "9                                Gender_Male                    0.000000   \n",
      "10  Department_B.com Accounting and Finance                     0.000000   \n",
      "11                      Department_B.com ISM                    0.000000   \n",
      "12                            Department_BCA                    0.000000   \n",
      "13                       Department_Commerce                    0.000000   \n",
      "14                            hobbies_Cinema                    0.000000   \n",
      "15                     hobbies_Reading books                    0.000000   \n",
      "16                            hobbies_Sports                    0.000000   \n",
      "17                       hobbies_Video Games                    0.000000   \n",
      "18          daily studing time_0 - 30 minute                    0.000000   \n",
      "19             daily studing time_1 - 2 Hour                    0.000000   \n",
      "20             daily studing time_2 - 3 hour                    0.000000   \n",
      "21             daily studing time_3 - 4 hour                    0.000000   \n",
      "22         daily studing time_30 - 60 minute                    0.000000   \n",
      "23       daily studing time_More Than 4 hour                    0.000000   \n",
      "24                prefer to study in_Anytime                    0.000000   \n",
      "25                prefer to study in_Morning                    0.000000   \n",
      "26                  prefer to study in_Night                    0.000000   \n",
      "27               Do you like your degree?_No                    0.000000   \n",
      "28              Do you like your degree?_Yes                    0.164871   \n",
      "29             social medai & video_0 Minute                    0.116668   \n",
      "30        social medai & video_1 - 1.30 hour                    0.000000   \n",
      "31        social medai & video_1 - 30 Minute                    0.000000   \n",
      "32        social medai & video_1.30 - 2 hour                    0.000000   \n",
      "33       social medai & video_30 - 60 Minute                    0.000000   \n",
      "34     social medai & video_More than 2 hour                    0.000000   \n",
      "35            Travelling Time_0 - 30 minutes                    0.103452   \n",
      "36             Travelling Time_1 - 1.30 hour                    0.000000   \n",
      "37             Travelling Time_1.30 - 2 hour                    0.000000   \n",
      "38             Travelling Time_2 - 2.30 hour                    0.000000   \n",
      "39             Travelling Time_2.30 - 3 hour                    0.000000   \n",
      "40           Travelling Time_30 - 60 minutes                    0.000000   \n",
      "41          Travelling Time_more than 3 hour                    0.000000   \n",
      "42                        Stress Level_Awful                    0.000000   \n",
      "43                          Stress Level_Bad                    0.000000   \n",
      "44                         Stress Level_Good                    0.000000   \n",
      "45                     Stress Level_fabulous                    0.100114   \n",
      "46                    Financial Status_Awful                    0.000000   \n",
      "47                      Financial Status_Bad                    0.000000   \n",
      "48                 Financial Status_Fabulous                    0.000000   \n",
      "49                     Financial Status_good                    0.000000   \n",
      "50                          part-time job_No                    0.000000   \n",
      "51                         part-time job_Yes                    0.000000   \n",
      "\n",
      "    Importance (Random Forest)  \n",
      "0                     0.078751  \n",
      "1                     0.068633  \n",
      "2                     0.052444  \n",
      "3                     0.076839  \n",
      "4                     0.097667  \n",
      "5                     0.043627  \n",
      "6                     0.011242  \n",
      "7                     0.013534  \n",
      "8                     0.008347  \n",
      "9                     0.015078  \n",
      "10                    0.004252  \n",
      "11                    0.004090  \n",
      "12                    0.006353  \n",
      "13                    0.013281  \n",
      "14                    0.011610  \n",
      "15                    0.009689  \n",
      "16                    0.006788  \n",
      "17                    0.005047  \n",
      "18                    0.008480  \n",
      "19                    0.023730  \n",
      "20                    0.005857  \n",
      "21                    0.020727  \n",
      "22                    0.020074  \n",
      "23                    0.016295  \n",
      "24                    0.015384  \n",
      "25                    0.009272  \n",
      "26                    0.007070  \n",
      "27                    0.046855  \n",
      "28                    0.041451  \n",
      "29                    0.032959  \n",
      "30                    0.012136  \n",
      "31                    0.019594  \n",
      "32                    0.015080  \n",
      "33                    0.005093  \n",
      "34                    0.000802  \n",
      "35                    0.009546  \n",
      "36                    0.000000  \n",
      "37                    0.008695  \n",
      "38                    0.011064  \n",
      "39                    0.003224  \n",
      "40                    0.005698  \n",
      "41                    0.004232  \n",
      "42                    0.011745  \n",
      "43                    0.015045  \n",
      "44                    0.013581  \n",
      "45                    0.011546  \n",
      "46                    0.019795  \n",
      "47                    0.011097  \n",
      "48                    0.003457  \n",
      "49                    0.015654  \n",
      "50                    0.011369  \n",
      "51                    0.016120  \n"
     ]
    }
   ],
   "source": [
    "# Train the Decision Tree model with the best parameters\n",
    "best_decision_tree = DecisionTreeClassifier(**best_params)\n",
    "best_decision_tree.fit(X_train, y_train)\n",
    "\n",
    "# Extract feature importances from the Decision Tree model\n",
    "tree_feature_importances = best_decision_tree.feature_importances_\n",
    "\n",
    "# Train the Random Forest model with the best parameters\n",
    "best_random_forest = RandomForestClassifier(**best_params)\n",
    "best_random_forest.fit(X_train, y_train)\n",
    "\n",
    "# Extract feature importances from the Random Forest model\n",
    "forest_feature_importances = best_random_forest.feature_importances_\n",
    "\n",
    "# Get column names from preprocessor\n",
    "column_names = preprocessor.transformers_[0][2] + preprocessor.transformers_[1][1].get_feature_names_out(categorical_features).tolist()\n",
    "\n",
    "# Create DataFrames to display feature importances for both models\n",
    "tree_feature_importance_df = pd.DataFrame({'Feature': column_names, 'Importance (Decision Tree)': tree_feature_importances})\n",
    "forest_feature_importance_df = pd.DataFrame({'Feature': column_names, 'Importance (Random Forest)': forest_feature_importances})\n",
    "\n",
    "# Merge the DataFrames on the 'Feature' column\n",
    "feature_importance_df = pd.merge(tree_feature_importance_df, forest_feature_importance_df, on='Feature')\n",
    "\n",
    "# Display feature importances\n",
    "print(\"Feature Importance (Decision Tree):\")\n",
    "print(tree_feature_importance_df)\n",
    "\n",
    "print(\"\\nFeature Importance (Random Forest):\")\n",
    "print(forest_feature_importance_df)\n",
    "\n",
    "print(\"\\nMerged Feature Importance:\")\n",
    "print(feature_importance_df)\n"
   ]
  },
  {
   "cell_type": "raw",
   "id": "d7b0bbce",
   "metadata": {},
   "source": [
    "This code will calculate and print the feature importance of each feature in the dataset according to both the Decision Tree and Random Forest models, and merge them into a single DataFrame for comparison."
   ]
  },
  {
   "cell_type": "code",
   "execution_count": null,
   "id": "7a62d539",
   "metadata": {},
   "outputs": [],
   "source": []
  },
  {
   "cell_type": "markdown",
   "id": "8d8eee7e",
   "metadata": {},
   "source": [
    "# Compare Feature Importances\n",
    "\n"
   ]
  },
  {
   "cell_type": "code",
   "execution_count": 121,
   "id": "c7021044",
   "metadata": {},
   "outputs": [
    {
     "name": "stdout",
     "output_type": "stream",
     "text": [
      "Spearman Correlation Coefficient: 0.31260794036254025\n",
      "p-value: 0.02405020175326402\n"
     ]
    }
   ],
   "source": [
    "from scipy.stats import spearmanr\n",
    "\n",
    "# Extract feature importances\n",
    "decision_tree_importance = feature_importance_df['Importance (Decision Tree)']\n",
    "random_forest_importance = feature_importance_df['Importance (Random Forest)']\n",
    "\n",
    "# Compute Spearman correlation coefficient and p-value\n",
    "correlation_coefficient, p_value = spearmanr(decision_tree_importance, random_forest_importance)\n",
    "\n",
    "# Print the correlation coefficient and p-value\n",
    "print(\"Spearman Correlation Coefficient:\", correlation_coefficient)\n",
    "print(\"p-value:\", p_value)\n"
   ]
  },
  {
   "cell_type": "raw",
   "id": "a5d65aa9",
   "metadata": {},
   "source": [
    "The Spearman correlation coefficient ranges from -1 to 1, where:\n",
    "1 indicates a perfect positive correlation.\n",
    "-1 indicates a perfect negative correlation.\n",
    "0 indicates no correlation.\n",
    "In our case, the correlation coefficient is approximately 0.323, indicating a moderate positive "
   ]
  },
  {
   "cell_type": "markdown",
   "id": "c48dafe1",
   "metadata": {},
   "source": [
    "# Feature Selection"
   ]
  },
  {
   "cell_type": "code",
   "execution_count": 122,
   "id": "f81ca468",
   "metadata": {},
   "outputs": [
    {
     "data": {
      "text/html": [
       "<style>#sk-container-id-17 {color: black;}#sk-container-id-17 pre{padding: 0;}#sk-container-id-17 div.sk-toggleable {background-color: white;}#sk-container-id-17 label.sk-toggleable__label {cursor: pointer;display: block;width: 100%;margin-bottom: 0;padding: 0.3em;box-sizing: border-box;text-align: center;}#sk-container-id-17 label.sk-toggleable__label-arrow:before {content: \"▸\";float: left;margin-right: 0.25em;color: #696969;}#sk-container-id-17 label.sk-toggleable__label-arrow:hover:before {color: black;}#sk-container-id-17 div.sk-estimator:hover label.sk-toggleable__label-arrow:before {color: black;}#sk-container-id-17 div.sk-toggleable__content {max-height: 0;max-width: 0;overflow: hidden;text-align: left;background-color: #f0f8ff;}#sk-container-id-17 div.sk-toggleable__content pre {margin: 0.2em;color: black;border-radius: 0.25em;background-color: #f0f8ff;}#sk-container-id-17 input.sk-toggleable__control:checked~div.sk-toggleable__content {max-height: 200px;max-width: 100%;overflow: auto;}#sk-container-id-17 input.sk-toggleable__control:checked~label.sk-toggleable__label-arrow:before {content: \"▾\";}#sk-container-id-17 div.sk-estimator input.sk-toggleable__control:checked~label.sk-toggleable__label {background-color: #d4ebff;}#sk-container-id-17 div.sk-label input.sk-toggleable__control:checked~label.sk-toggleable__label {background-color: #d4ebff;}#sk-container-id-17 input.sk-hidden--visually {border: 0;clip: rect(1px 1px 1px 1px);clip: rect(1px, 1px, 1px, 1px);height: 1px;margin: -1px;overflow: hidden;padding: 0;position: absolute;width: 1px;}#sk-container-id-17 div.sk-estimator {font-family: monospace;background-color: #f0f8ff;border: 1px dotted black;border-radius: 0.25em;box-sizing: border-box;margin-bottom: 0.5em;}#sk-container-id-17 div.sk-estimator:hover {background-color: #d4ebff;}#sk-container-id-17 div.sk-parallel-item::after {content: \"\";width: 100%;border-bottom: 1px solid gray;flex-grow: 1;}#sk-container-id-17 div.sk-label:hover label.sk-toggleable__label {background-color: #d4ebff;}#sk-container-id-17 div.sk-serial::before {content: \"\";position: absolute;border-left: 1px solid gray;box-sizing: border-box;top: 0;bottom: 0;left: 50%;z-index: 0;}#sk-container-id-17 div.sk-serial {display: flex;flex-direction: column;align-items: center;background-color: white;padding-right: 0.2em;padding-left: 0.2em;position: relative;}#sk-container-id-17 div.sk-item {position: relative;z-index: 1;}#sk-container-id-17 div.sk-parallel {display: flex;align-items: stretch;justify-content: center;background-color: white;position: relative;}#sk-container-id-17 div.sk-item::before, #sk-container-id-17 div.sk-parallel-item::before {content: \"\";position: absolute;border-left: 1px solid gray;box-sizing: border-box;top: 0;bottom: 0;left: 50%;z-index: -1;}#sk-container-id-17 div.sk-parallel-item {display: flex;flex-direction: column;z-index: 1;position: relative;background-color: white;}#sk-container-id-17 div.sk-parallel-item:first-child::after {align-self: flex-end;width: 50%;}#sk-container-id-17 div.sk-parallel-item:last-child::after {align-self: flex-start;width: 50%;}#sk-container-id-17 div.sk-parallel-item:only-child::after {width: 0;}#sk-container-id-17 div.sk-dashed-wrapped {border: 1px dashed gray;margin: 0 0.4em 0.5em 0.4em;box-sizing: border-box;padding-bottom: 0.4em;background-color: white;}#sk-container-id-17 div.sk-label label {font-family: monospace;font-weight: bold;display: inline-block;line-height: 1.2em;}#sk-container-id-17 div.sk-label-container {text-align: center;}#sk-container-id-17 div.sk-container {/* jupyter's `normalize.less` sets `[hidden] { display: none; }` but bootstrap.min.css set `[hidden] { display: none !important; }` so we also need the `!important` here to be able to override the default hidden behavior on the sphinx rendered scikit-learn.org. See: https://github.com/scikit-learn/scikit-learn/issues/21755 */display: inline-block !important;position: relative;}#sk-container-id-17 div.sk-text-repr-fallback {display: none;}</style><div id=\"sk-container-id-17\" class=\"sk-top-container\"><div class=\"sk-text-repr-fallback\"><pre>RandomForestClassifier(max_depth=3, min_samples_split=5)</pre><b>In a Jupyter environment, please rerun this cell to show the HTML representation or trust the notebook. <br />On GitHub, the HTML representation is unable to render, please try loading this page with nbviewer.org.</b></div><div class=\"sk-container\" hidden><div class=\"sk-item\"><div class=\"sk-estimator sk-toggleable\"><input class=\"sk-toggleable__control sk-hidden--visually\" id=\"sk-estimator-id-17\" type=\"checkbox\" checked><label for=\"sk-estimator-id-17\" class=\"sk-toggleable__label sk-toggleable__label-arrow\">RandomForestClassifier</label><div class=\"sk-toggleable__content\"><pre>RandomForestClassifier(max_depth=3, min_samples_split=5)</pre></div></div></div></div></div>"
      ],
      "text/plain": [
       "RandomForestClassifier(max_depth=3, min_samples_split=5)"
      ]
     },
     "execution_count": 122,
     "metadata": {},
     "output_type": "execute_result"
    }
   ],
   "source": [
    "from sklearn.feature_selection import RFE\n",
    "\n",
    "\n",
    "# Convert X_train to a DataFrame if it's a NumPy array\n",
    "X_train_df = pd.DataFrame(X_train)\n",
    "\n",
    "# Initialize RandomForestClassifier\n",
    "clf = RandomForestClassifier(**best_params)\n",
    "\n",
    "# Initialize RFE with the classifier and the desired number of features to select\n",
    "rfe = RFE(estimator=clf, n_features_to_select=10, step=1)\n",
    "\n",
    "# Fit RFE to the training data\n",
    "rfe.fit(X_train_df, y_train)\n",
    "\n",
    "# Get the selected features\n",
    "selected_features = X_train_df.columns[rfe.support_]\n",
    "\n",
    "# Subset the training and test data with the selected features\n",
    "X_train_selected = X_train_df[selected_features]\n",
    "X_test_selected = X_test[selected_features]\n",
    "\n",
    "# Retrain the model using the selected features\n",
    "clf.fit(X_train_selected, y_train)\n",
    "\n",
    "###This code demonstrates how to perform feature selection using RFE with a RandomForestClassifier and retrain the model with the selected features.\n"
   ]
  },
  {
   "cell_type": "markdown",
   "id": "1b84dae2",
   "metadata": {},
   "source": [
    "# Cross-Validation:"
   ]
  },
  {
   "cell_type": "code",
   "execution_count": 123,
   "id": "94e8d7fd",
   "metadata": {},
   "outputs": [
    {
     "name": "stderr",
     "output_type": "stream",
     "text": [
      "C:\\Users\\dipgu\\anaconda3\\Lib\\site-packages\\sklearn\\model_selection\\_split.py:725: UserWarning: The least populated class in y has only 2 members, which is less than n_splits=5.\n",
      "  warnings.warn(\n"
     ]
    },
    {
     "name": "stdout",
     "output_type": "stream",
     "text": [
      "Cross-validation scores: [0.47368421 0.5        0.5        0.45945946 0.48648649]\n",
      "Mean CV Accuracy: 0.48392603129445233\n",
      "Standard Deviation of CV Accuracy: 0.015664028221934263\n"
     ]
    }
   ],
   "source": [
    "from sklearn.model_selection import cross_val_score\n",
    "from sklearn.ensemble import RandomForestClassifier\n",
    "import numpy as np\n",
    "\n",
    "# Initialize RandomForestClassifier with the best hyperparameters\n",
    "clf = RandomForestClassifier(**best_params)\n",
    "\n",
    "# Perform k-fold cross-validation with k=5\n",
    "cv_scores = cross_val_score(clf, X_train_selected, y_train, cv=5)\n",
    "\n",
    "# Print the cross-validation scores\n",
    "print(\"Cross-validation scores:\", cv_scores)\n",
    "\n",
    "# Calculate and print the mean and standard deviation of the cross-validation scores\n",
    "print(\"Mean CV Accuracy:\", np.mean(cv_scores))\n",
    "print(\"Standard Deviation of CV Accuracy:\", np.std(cv_scores))\n"
   ]
  },
  {
   "cell_type": "raw",
   "id": "18283db1",
   "metadata": {},
   "source": [
    "This code uses the RandomForestClassifier with the best hyperparameters obtained from earlier steps and performs k-fold cross-validation with cv=5."
   ]
  },
  {
   "cell_type": "code",
   "execution_count": 124,
   "id": "f6d67e95",
   "metadata": {},
   "outputs": [
    {
     "name": "stdout",
     "output_type": "stream",
     "text": [
      "['Certification Course', 'Gender', 'Department', 'Height(CM)', 'Weight(KG)', '10th Mark', '12th Mark', 'college mark', 'hobbies', 'daily studing time', 'prefer to study in', 'salary expectation', 'Do you like your degree?', 'willingness to pursue a career based on their degree', 'social medai & video', 'Travelling Time', 'Stress Level', 'Financial Status', 'part-time job']\n"
     ]
    }
   ],
   "source": [
    "column_names = data.columns.tolist()\n",
    "\n",
    "print(column_names)"
   ]
  },
  {
   "cell_type": "code",
   "execution_count": 125,
   "id": "aead6437",
   "metadata": {},
   "outputs": [
    {
     "data": {
      "image/png": "[encoded data removed]",
      "text/plain": [
       "<Figure size 640x480 with 1 Axes>"
      ]
     },
     "metadata": {},
     "output_type": "display_data"
    }
   ],
   "source": [
    "import matplotlib.pyplot as plt\n",
    "\n",
    "\n",
    "\n",
    "# Scatter plot\n",
    "plt.scatter(data['10th Mark'], data['12th Mark'])\n",
    "\n",
    "# Add labels and title\n",
    "plt.xlabel('10th Mark')\n",
    "plt.ylabel('12th Mark')\n",
    "plt.title('Scatter Plot of 10th Mark vs 12th Mark')\n",
    "\n",
    "# Show plot\n",
    "plt.show()"
   ]
  }
 ],
 "metadata": {
  "kernelspec": {
   "display_name": "Python 3 (ipykernel)",
   "language": "python",
   "name": "python3"
  },
  "language_info": {
   "codemirror_mode": {
    "name": "ipython",
    "version": 3
   },
   "file_extension": ".py",
   "mimetype": "text/x-python",
   "name": "python",
   "nbconvert_exporter": "python",
   "pygments_lexer": "ipython3",
   "version": "3.11.4"
  }
 },
 "nbformat": 4,
 "nbformat_minor": 5
}
